{
  "nbformat": 4,
  "nbformat_minor": 0,
  "metadata": {
    "colab": {
      "provenance": []
    },
    "kernelspec": {
      "name": "python3",
      "display_name": "Python 3"
    },
    "language_info": {
      "name": "python"
    }
  },
  "cells": [
    {
      "cell_type": "markdown",
      "source": [
        "# **Just playing around with monai tutorials :)**"
      ],
      "metadata": {
        "id": "2UIW1QJA9gf_"
      }
    },
    {
      "cell_type": "markdown",
      "source": [
        "## cloning the monai tutorials and installing monai\n"
      ],
      "metadata": {
        "id": "tnyhzqwl3tzq"
      }
    },
    {
      "cell_type": "code",
      "execution_count": 35,
      "metadata": {
        "colab": {
          "base_uri": "https://localhost:8080/"
        },
        "id": "CxEY0WP8qrjr",
        "outputId": "8154f980-da01-44fd-bd82-10c43770d599"
      },
      "outputs": [
        {
          "output_type": "stream",
          "name": "stdout",
          "text": [
            "Cloning into 'tutorials'...\n",
            "remote: Enumerating objects: 5786, done.\u001b[K\n",
            "remote: Counting objects: 100% (264/264), done.\u001b[K\n",
            "remote: Compressing objects: 100% (207/207), done.\u001b[K\n",
            "remote: Total 5786 (delta 42), reused 259 (delta 40), pack-reused 5522\u001b[K\n",
            "Receiving objects: 100% (5786/5786), 236.16 MiB | 21.46 MiB/s, done.\n",
            "Resolving deltas: 100% (3349/3349), done.\n",
            "Looking in indexes: https://pypi.org/simple, https://us-python.pkg.dev/colab-wheels/public/simple/\n",
            "Requirement already satisfied: monai in /usr/local/lib/python3.8/dist-packages (1.1.0)\n",
            "Requirement already satisfied: numpy>=1.17 in /usr/local/lib/python3.8/dist-packages (from monai) (1.21.6)\n",
            "Requirement already satisfied: torch>=1.8 in /usr/local/lib/python3.8/dist-packages (from monai) (1.13.1+cu116)\n",
            "Requirement already satisfied: typing-extensions in /usr/local/lib/python3.8/dist-packages (from torch>=1.8->monai) (4.4.0)\n"
          ]
        }
      ],
      "source": [
        "!git clone https://github.com/Project-MONAI/tutorials.git\n",
        "!pip install monai"
      ]
    },
    {
      "cell_type": "markdown",
      "source": [
        "## Importing os and going to the 2d segmentation tutorial"
      ],
      "metadata": {
        "id": "bWOQoj4X4Psa"
      }
    },
    {
      "cell_type": "code",
      "source": [
        "import os\n",
        "os.chdir('tutorials/2d_segmentation/torch')"
      ],
      "metadata": {
        "id": "L-Ld-OFxq58W"
      },
      "execution_count": 38,
      "outputs": []
    },
    {
      "cell_type": "code",
      "source": [
        "!cat unet_training_array.py"
      ],
      "metadata": {
        "colab": {
          "base_uri": "https://localhost:8080/"
        },
        "id": "UKenRySo40jQ",
        "outputId": "8aa5872f-4b73-481b-f3a1-75939345c325"
      },
      "execution_count": 39,
      "outputs": [
        {
          "output_type": "stream",
          "name": "stdout",
          "text": [
            "# Copyright (c) MONAI Consortium\n",
            "# Licensed under the Apache License, Version 2.0 (the \"License\");\n",
            "# you may not use this file except in compliance with the License.\n",
            "# You may obtain a copy of the License at\n",
            "#     http://www.apache.org/licenses/LICENSE-2.0\n",
            "# Unless required by applicable law or agreed to in writing, software\n",
            "# distributed under the License is distributed on an \"AS IS\" BASIS,\n",
            "# WITHOUT WARRANTIES OR CONDITIONS OF ANY KIND, either express or implied.\n",
            "# See the License for the specific language governing permissions and\n",
            "# limitations under the License.\n",
            "\n",
            "import logging\n",
            "import os\n",
            "import sys\n",
            "import tempfile\n",
            "from glob import glob\n",
            "\n",
            "import torch\n",
            "from PIL import Image\n",
            "from torch.utils.tensorboard import SummaryWriter\n",
            "\n",
            "import monai\n",
            "from monai.data import ArrayDataset, create_test_image_2d, decollate_batch, DataLoader\n",
            "from monai.inferers import sliding_window_inference\n",
            "from monai.metrics import DiceMetric\n",
            "from monai.transforms import (\n",
            "    Activations,\n",
            "    AsDiscrete,\n",
            "    Compose,\n",
            "    LoadImage,\n",
            "    RandRotate90,\n",
            "    RandSpatialCrop,\n",
            "    ScaleIntensity,\n",
            ")\n",
            "from monai.visualize import plot_2d_or_3d_image\n",
            "\n",
            "\n",
            "def main(tempdir):\n",
            "    monai.config.print_config()\n",
            "    logging.basicConfig(stream=sys.stdout, level=logging.INFO)\n",
            "\n",
            "    # create a temporary directory and 40 random image, mask pairs\n",
            "    print(f\"generating synthetic data to {tempdir} (this may take a while)\")\n",
            "    for i in range(40):\n",
            "        im, seg = create_test_image_2d(128, 128, num_seg_classes=1)\n",
            "        Image.fromarray((im * 255).astype(\"uint8\")).save(os.path.join(tempdir, f\"img{i:d}.png\"))\n",
            "        Image.fromarray((seg * 255).astype(\"uint8\")).save(os.path.join(tempdir, f\"seg{i:d}.png\"))\n",
            "\n",
            "    images = sorted(glob(os.path.join(tempdir, \"img*.png\")))\n",
            "    segs = sorted(glob(os.path.join(tempdir, \"seg*.png\")))\n",
            "\n",
            "    # define transforms for image and segmentation\n",
            "    train_imtrans = Compose(\n",
            "        [\n",
            "            LoadImage(image_only=True, ensure_channel_first=True),\n",
            "            ScaleIntensity(),\n",
            "            RandSpatialCrop((96, 96), random_size=False),\n",
            "            RandRotate90(prob=0.5, spatial_axes=(0, 1)),\n",
            "        ]\n",
            "    )\n",
            "    train_segtrans = Compose(\n",
            "        [\n",
            "            LoadImage(image_only=True, ensure_channel_first=True),\n",
            "            ScaleIntensity(),\n",
            "            RandSpatialCrop((96, 96), random_size=False),\n",
            "            RandRotate90(prob=0.5, spatial_axes=(0, 1)),\n",
            "        ]\n",
            "    )\n",
            "    val_imtrans = Compose([LoadImage(image_only=True, ensure_channel_first=True), ScaleIntensity()])\n",
            "    val_segtrans = Compose([LoadImage(image_only=True, ensure_channel_first=True), ScaleIntensity()])\n",
            "\n",
            "    # define array dataset, data loader\n",
            "    check_ds = ArrayDataset(images, train_imtrans, segs, train_segtrans)\n",
            "    check_loader = DataLoader(check_ds, batch_size=10, num_workers=2, pin_memory=torch.cuda.is_available())\n",
            "    im, seg = monai.utils.misc.first(check_loader)\n",
            "    print(im.shape, seg.shape)\n",
            "\n",
            "    # create a training data loader\n",
            "    train_ds = ArrayDataset(images[:20], train_imtrans, segs[:20], train_segtrans)\n",
            "    train_loader = DataLoader(train_ds, batch_size=4, shuffle=True, num_workers=8, pin_memory=torch.cuda.is_available())\n",
            "    # create a validation data loader\n",
            "    val_ds = ArrayDataset(images[-20:], val_imtrans, segs[-20:], val_segtrans)\n",
            "    val_loader = DataLoader(val_ds, batch_size=1, num_workers=4, pin_memory=torch.cuda.is_available())\n",
            "    dice_metric = DiceMetric(include_background=True, reduction=\"mean\", get_not_nans=False)\n",
            "    post_trans = Compose([Activations(sigmoid=True), AsDiscrete(threshold=0.5)])\n",
            "    # create UNet, DiceLoss and Adam optimizer\n",
            "    device = torch.device(\"cuda\" if torch.cuda.is_available() else \"cpu\")\n",
            "    model = monai.networks.nets.UNet(\n",
            "        spatial_dims=2,\n",
            "        in_channels=1,\n",
            "        out_channels=1,\n",
            "        channels=(16, 32, 64, 128, 256),\n",
            "        strides=(2, 2, 2, 2),\n",
            "        num_res_units=2,\n",
            "    ).to(device)\n",
            "    loss_function = monai.losses.DiceLoss(sigmoid=True)\n",
            "    optimizer = torch.optim.Adam(model.parameters(), 1e-3)\n",
            "\n",
            "    # start a typical PyTorch training\n",
            "    val_interval = 2\n",
            "    best_metric = -1\n",
            "    best_metric_epoch = -1\n",
            "    epoch_loss_values = list()\n",
            "    metric_values = list()\n",
            "    writer = SummaryWriter()\n",
            "    for epoch in range(10):\n",
            "        print(\"-\" * 10)\n",
            "        print(f\"epoch {epoch + 1}/{10}\")\n",
            "        model.train()\n",
            "        epoch_loss = 0\n",
            "        step = 0\n",
            "        for batch_data in train_loader:\n",
            "            step += 1\n",
            "            inputs, labels = batch_data[0].to(device), batch_data[1].to(device)\n",
            "            optimizer.zero_grad()\n",
            "            outputs = model(inputs)\n",
            "            loss = loss_function(outputs, labels)\n",
            "            loss.backward()\n",
            "            optimizer.step()\n",
            "            epoch_loss += loss.item()\n",
            "            epoch_len = len(train_ds) // train_loader.batch_size\n",
            "            print(f\"{step}/{epoch_len}, train_loss: {loss.item():.4f}\")\n",
            "            writer.add_scalar(\"train_loss\", loss.item(), epoch_len * epoch + step)\n",
            "        epoch_loss /= step\n",
            "        epoch_loss_values.append(epoch_loss)\n",
            "        print(f\"epoch {epoch + 1} average loss: {epoch_loss:.4f}\")\n",
            "\n",
            "        if (epoch + 1) % val_interval == 0:\n",
            "            model.eval()\n",
            "            with torch.no_grad():\n",
            "                val_images = None\n",
            "                val_labels = None\n",
            "                val_outputs = None\n",
            "                for val_data in val_loader:\n",
            "                    val_images, val_labels = val_data[0].to(device), val_data[1].to(device)\n",
            "                    roi_size = (96, 96)\n",
            "                    sw_batch_size = 4\n",
            "                    val_outputs = sliding_window_inference(val_images, roi_size, sw_batch_size, model)\n",
            "                    val_outputs = [post_trans(i) for i in decollate_batch(val_outputs)]\n",
            "                    # compute metric for current iteration\n",
            "                    dice_metric(y_pred=val_outputs, y=val_labels)\n",
            "                # aggregate the final mean dice result\n",
            "                metric = dice_metric.aggregate().item()\n",
            "                # reset the status for next validation round\n",
            "                dice_metric.reset()\n",
            "                metric_values.append(metric)\n",
            "                if metric > best_metric:\n",
            "                    best_metric = metric\n",
            "                    best_metric_epoch = epoch + 1\n",
            "                    torch.save(model.state_dict(), \"best_metric_model_segmentation2d_array.pth\")\n",
            "                    print(\"saved new best metric model\")\n",
            "                print(\n",
            "                    \"current epoch: {} current mean dice: {:.4f} best mean dice: {:.4f} at epoch {}\".format(\n",
            "                        epoch + 1, metric, best_metric, best_metric_epoch\n",
            "                    )\n",
            "                )\n",
            "                writer.add_scalar(\"val_mean_dice\", metric, epoch + 1)\n",
            "                # plot the last model output as GIF image in TensorBoard with the corresponding image and label\n",
            "                plot_2d_or_3d_image(val_images, epoch + 1, writer, index=0, tag=\"image\")\n",
            "                plot_2d_or_3d_image(val_labels, epoch + 1, writer, index=0, tag=\"label\")\n",
            "                plot_2d_or_3d_image(val_outputs, epoch + 1, writer, index=0, tag=\"output\")\n",
            "\n",
            "    print(f\"train completed, best_metric: {best_metric:.4f} at epoch: {best_metric_epoch}\")\n",
            "    writer.close()\n",
            "\n",
            "\n",
            "if __name__ == \"__main__\":\n",
            "    with tempfile.TemporaryDirectory() as tempdir:\n",
            "        main(tempdir)\n"
          ]
        }
      ]
    },
    {
      "cell_type": "markdown",
      "source": [
        "We can run the 2D segmentation scripts "
      ],
      "metadata": {
        "id": "Don2XnFG49S-"
      }
    },
    {
      "cell_type": "code",
      "source": [
        "!python unet_training_array.py\n"
      ],
      "metadata": {
        "colab": {
          "base_uri": "https://localhost:8080/"
        },
        "id": "-RRGCTICrJBl",
        "outputId": "6f3189b1-cacb-445b-b5df-42b74aa3b918"
      },
      "execution_count": 40,
      "outputs": [
        {
          "output_type": "stream",
          "name": "stdout",
          "text": [
            "MONAI version: 1.1.0\n",
            "Numpy version: 1.21.6\n",
            "Pytorch version: 1.13.1+cu116\n",
            "MONAI flags: HAS_EXT = False, USE_COMPILED = False, USE_META_DICT = False\n",
            "MONAI rev id: a2ec3752f54bfc3b40e7952234fbeb5452ed63e3\n",
            "MONAI __file__: /usr/local/lib/python3.8/dist-packages/monai/__init__.py\n",
            "\n",
            "Optional dependencies:\n",
            "Pytorch Ignite version: NOT INSTALLED or UNKNOWN VERSION.\n",
            "Nibabel version: 3.0.2\n",
            "scikit-image version: 0.18.3\n",
            "Pillow version: 7.1.2\n",
            "Tensorboard version: 2.9.1\n",
            "gdown version: 4.4.0\n",
            "TorchVision version: 0.14.1+cu116\n",
            "tqdm version: 4.64.1\n",
            "lmdb version: 0.99\n",
            "psutil version: 5.4.8\n",
            "pandas version: 1.3.5\n",
            "einops version: NOT INSTALLED or UNKNOWN VERSION.\n",
            "transformers version: NOT INSTALLED or UNKNOWN VERSION.\n",
            "mlflow version: NOT INSTALLED or UNKNOWN VERSION.\n",
            "pynrrd version: NOT INSTALLED or UNKNOWN VERSION.\n",
            "\n",
            "For details about installing the optional dependencies, please visit:\n",
            "    https://docs.monai.io/en/latest/installation.html#installing-the-recommended-dependencies\n",
            "\n",
            "generating synthetic data to /tmp/tmpubj5urxt (this may take a while)\n",
            "torch.Size([10, 1, 96, 96]) torch.Size([10, 1, 96, 96])\n",
            "/usr/local/lib/python3.8/dist-packages/torch/utils/data/dataloader.py:554: UserWarning: This DataLoader will create 8 worker processes in total. Our suggested max number of worker in current system is 2, which is smaller than what this DataLoader is going to create. Please be aware that excessive worker creation might get DataLoader running slow or even freeze, lower the worker number to avoid potential slowness/freeze if necessary.\n",
            "  warnings.warn(_create_warning_msg(\n",
            "/usr/local/lib/python3.8/dist-packages/torch/utils/data/dataloader.py:554: UserWarning: This DataLoader will create 4 worker processes in total. Our suggested max number of worker in current system is 2, which is smaller than what this DataLoader is going to create. Please be aware that excessive worker creation might get DataLoader running slow or even freeze, lower the worker number to avoid potential slowness/freeze if necessary.\n",
            "  warnings.warn(_create_warning_msg(\n",
            "----------\n",
            "epoch 1/10\n",
            "1/5, train_loss: 0.4291\n",
            "2/5, train_loss: 0.3914\n",
            "3/5, train_loss: 0.3284\n",
            "4/5, train_loss: 0.3478\n",
            "5/5, train_loss: 0.3309\n",
            "epoch 1 average loss: 0.3655\n",
            "----------\n",
            "epoch 2/10\n",
            "1/5, train_loss: 0.3300\n",
            "2/5, train_loss: 0.3528\n",
            "3/5, train_loss: 0.3404\n",
            "4/5, train_loss: 0.3349\n",
            "5/5, train_loss: 0.3588\n",
            "epoch 2 average loss: 0.3434\n",
            "saved new best metric model\n",
            "current epoch: 2 current mean dice: 0.5860 best mean dice: 0.5860 at epoch 2\n",
            "----------\n",
            "epoch 3/10\n",
            "1/5, train_loss: 0.3358\n",
            "2/5, train_loss: 0.3295\n",
            "3/5, train_loss: 0.3075\n",
            "4/5, train_loss: 0.3191\n",
            "5/5, train_loss: 0.3487\n",
            "epoch 3 average loss: 0.3281\n",
            "----------\n",
            "epoch 4/10\n",
            "1/5, train_loss: 0.2939\n",
            "2/5, train_loss: 0.3709\n",
            "3/5, train_loss: 0.3350\n",
            "4/5, train_loss: 0.3085\n",
            "5/5, train_loss: 0.3193\n",
            "epoch 4 average loss: 0.3255\n",
            "saved new best metric model\n",
            "current epoch: 4 current mean dice: 0.5908 best mean dice: 0.5908 at epoch 4\n",
            "----------\n",
            "epoch 5/10\n",
            "1/5, train_loss: 0.3274\n",
            "2/5, train_loss: 0.3391\n",
            "3/5, train_loss: 0.3441\n",
            "4/5, train_loss: 0.2927\n",
            "5/5, train_loss: 0.3034\n",
            "epoch 5 average loss: 0.3213\n",
            "----------\n",
            "epoch 6/10\n",
            "1/5, train_loss: 0.3219\n",
            "2/5, train_loss: 0.2907\n",
            "3/5, train_loss: 0.3043\n",
            "4/5, train_loss: 0.3326\n",
            "5/5, train_loss: 0.3000\n",
            "epoch 6 average loss: 0.3099\n",
            "saved new best metric model\n",
            "current epoch: 6 current mean dice: 0.6013 best mean dice: 0.6013 at epoch 6\n",
            "----------\n",
            "epoch 7/10\n",
            "1/5, train_loss: 0.3033\n",
            "2/5, train_loss: 0.3389\n",
            "3/5, train_loss: 0.2703\n",
            "4/5, train_loss: 0.2970\n",
            "5/5, train_loss: 0.3188\n",
            "epoch 7 average loss: 0.3057\n",
            "----------\n",
            "epoch 8/10\n",
            "1/5, train_loss: 0.2817\n",
            "2/5, train_loss: 0.3070\n",
            "3/5, train_loss: 0.2901\n",
            "4/5, train_loss: 0.3178\n",
            "5/5, train_loss: 0.2943\n",
            "epoch 8 average loss: 0.2982\n",
            "saved new best metric model\n",
            "current epoch: 8 current mean dice: 0.6249 best mean dice: 0.6249 at epoch 8\n",
            "----------\n",
            "epoch 9/10\n",
            "1/5, train_loss: 0.3095\n",
            "2/5, train_loss: 0.2850\n",
            "3/5, train_loss: 0.3277\n",
            "4/5, train_loss: 0.2723\n",
            "5/5, train_loss: 0.2880\n",
            "epoch 9 average loss: 0.2965\n",
            "----------\n",
            "epoch 10/10\n",
            "1/5, train_loss: 0.2808\n",
            "2/5, train_loss: 0.3227\n",
            "3/5, train_loss: 0.2901\n",
            "4/5, train_loss: 0.2699\n",
            "5/5, train_loss: 0.2892\n",
            "epoch 10 average loss: 0.2905\n",
            "saved new best metric model\n",
            "current epoch: 10 current mean dice: 0.6694 best mean dice: 0.6694 at epoch 10\n",
            "train completed, best_metric: 0.6694 at epoch: 10\n"
          ]
        }
      ]
    },
    {
      "cell_type": "code",
      "source": [
        "!python unet_evaluation_array.py"
      ],
      "metadata": {
        "colab": {
          "base_uri": "https://localhost:8080/"
        },
        "id": "Nt0apV3J5PfV",
        "outputId": "26a3c404-82a6-4a23-b11f-99027120e88a"
      },
      "execution_count": 41,
      "outputs": [
        {
          "output_type": "stream",
          "name": "stdout",
          "text": [
            "MONAI version: 1.1.0\n",
            "Numpy version: 1.21.6\n",
            "Pytorch version: 1.13.1+cu116\n",
            "MONAI flags: HAS_EXT = False, USE_COMPILED = False, USE_META_DICT = False\n",
            "MONAI rev id: a2ec3752f54bfc3b40e7952234fbeb5452ed63e3\n",
            "MONAI __file__: /usr/local/lib/python3.8/dist-packages/monai/__init__.py\n",
            "\n",
            "Optional dependencies:\n",
            "Pytorch Ignite version: NOT INSTALLED or UNKNOWN VERSION.\n",
            "Nibabel version: 3.0.2\n",
            "scikit-image version: 0.18.3\n",
            "Pillow version: 7.1.2\n",
            "Tensorboard version: 2.9.1\n",
            "gdown version: 4.4.0\n",
            "TorchVision version: 0.14.1+cu116\n",
            "tqdm version: 4.64.1\n",
            "lmdb version: 0.99\n",
            "psutil version: 5.4.8\n",
            "pandas version: 1.3.5\n",
            "einops version: NOT INSTALLED or UNKNOWN VERSION.\n",
            "transformers version: NOT INSTALLED or UNKNOWN VERSION.\n",
            "mlflow version: NOT INSTALLED or UNKNOWN VERSION.\n",
            "pynrrd version: NOT INSTALLED or UNKNOWN VERSION.\n",
            "\n",
            "For details about installing the optional dependencies, please visit:\n",
            "    https://docs.monai.io/en/latest/installation.html#installing-the-recommended-dependencies\n",
            "\n",
            "generating synthetic data to /tmp/tmpwpmtaw_g (this may take a while)\n",
            "2023-02-02 20:53:09,699 INFO image_writer.py:194 - writing: output/img0/img0_seg.png\n",
            "2023-02-02 20:53:09,740 INFO image_writer.py:194 - writing: output/img1/img1_seg.png\n",
            "2023-02-02 20:53:09,779 INFO image_writer.py:194 - writing: output/img2/img2_seg.png\n",
            "2023-02-02 20:53:09,821 INFO image_writer.py:194 - writing: output/img3/img3_seg.png\n",
            "2023-02-02 20:53:09,862 INFO image_writer.py:194 - writing: output/img4/img4_seg.png\n",
            "evaluation metric: 0.6010841727256775\n"
          ]
        }
      ]
    },
    {
      "cell_type": "code",
      "source": [
        "import matplotlib.pyplot as plt\n"
      ],
      "metadata": {
        "id": "evPL2chmuz75"
      },
      "execution_count": 14,
      "outputs": []
    },
    {
      "cell_type": "markdown",
      "source": [
        "Monai has a cool function for creating synthetic segmentation data.\n",
        "It produces an image, and it's respective segmentation mask:"
      ],
      "metadata": {
        "id": "59UdPXlz6Udo"
      }
    },
    {
      "cell_type": "code",
      "source": [
        "from monai.data import ArrayDataset, create_test_image_2d, decollate_batch, DataLoader\n",
        "image,mask= create_test_image_2d(1024,1024, num_seg_classes=1)"
      ],
      "metadata": {
        "id": "LwKEJnu5usmm"
      },
      "execution_count": 76,
      "outputs": []
    },
    {
      "cell_type": "code",
      "source": [
        "plt.imshow(image)\n",
        "print(\"The image\")"
      ],
      "metadata": {
        "colab": {
          "base_uri": "https://localhost:8080/",
          "height": 287
        },
        "id": "Ci15mOcTu83E",
        "outputId": "edcfc942-7ee8-4ae2-cbda-be777bc1d114"
      },
      "execution_count": 77,
      "outputs": [
        {
          "output_type": "stream",
          "name": "stdout",
          "text": [
            "The image\n"
          ]
        },
        {
          "output_type": "display_data",
          "data": {
            "text/plain": [
              "<Figure size 432x288 with 1 Axes>"
            ],
            "image/png": "[encoded data removed]"
          },
          "metadata": {
            "needs_background": "light"
          }
        }
      ]
    },
    {
      "cell_type": "code",
      "source": [
        "plt.imshow(mask)\n",
        "print(\"it's segmentation mask\")"
      ],
      "metadata": {
        "colab": {
          "base_uri": "https://localhost:8080/",
          "height": 287
        },
        "id": "pZ6lS_V8vDmY",
        "outputId": "1c912f38-a167-4f19-be44-a21a0feee1f0"
      },
      "execution_count": 78,
      "outputs": [
        {
          "output_type": "stream",
          "name": "stdout",
          "text": [
            "it's segmentation mask\n"
          ]
        },
        {
          "output_type": "display_data",
          "data": {
            "text/plain": [
              "<Figure size 432x288 with 1 Axes>"
            ],
            "image/png": "[encoded data removed]"
          },
          "metadata": {
            "needs_background": "light"
          }
        }
      ]
    },
    {
      "cell_type": "code",
      "source": [
        "os.listdir('output/img1/img1_seg.png')"
      ],
      "metadata": {
        "colab": {
          "base_uri": "https://localhost:8080/"
        },
        "id": "nh10HRtV6vp2",
        "outputId": "dfd7199d-ae5b-46e1-a255-47d80d55297c"
      },
      "execution_count": 49,
      "outputs": [
        {
          "output_type": "execute_result",
          "data": {
            "text/plain": [
              "['img1_seg.png']"
            ]
          },
          "metadata": {},
          "execution_count": 49
        }
      ]
    },
    {
      "cell_type": "code",
      "source": [
        "from PIL import Image\n",
        "image = Image.open(\"output/img1/img1_seg.png\")\n",
        "image.show()"
      ],
      "metadata": {
        "id": "MuFxeuIh68dq"
      },
      "execution_count": 52,
      "outputs": []
    },
    {
      "cell_type": "code",
      "source": [],
      "metadata": {
        "id": "GMCVktQI7hLv"
      },
      "execution_count": null,
      "outputs": []
    },
    {
      "cell_type": "code",
      "source": [
        "import imageio\n",
        "\n",
        "im = imageio.imread('output/img0/img0_seg.png')\n",
        "plt.imshow(im,cmap='gray')"
      ],
      "metadata": {
        "colab": {
          "base_uri": "https://localhost:8080/",
          "height": 286
        },
        "id": "z87NDkil7FJp",
        "outputId": "0fd51569-a1b1-4a72-b891-3ee15e4d37c8"
      },
      "execution_count": 75,
      "outputs": [
        {
          "output_type": "execute_result",
          "data": {
            "text/plain": [
              "<matplotlib.image.AxesImage at 0x7f2cebdb5d60>"
            ]
          },
          "metadata": {},
          "execution_count": 75
        },
        {
          "output_type": "display_data",
          "data": {
            "text/plain": [
              "<Figure size 432x288 with 1 Axes>"
            ],
            "image/png": "[encoded data removed]"
          },
          "metadata": {
            "needs_background": "light"
          }
        }
      ]
    },
    {
      "cell_type": "markdown",
      "source": [
        "* let's try to run the tutorial script with SwinUNETR instead of monai.networks.nets.UNet\n",
        "\n",
        "* and then let's try with images of size 1024x1024 with create_test_image_2d images\n",
        "* then we can try to use our dataset :)"
      ],
      "metadata": {
        "id": "NwGZv6N282n_"
      }
    }
  ]
}